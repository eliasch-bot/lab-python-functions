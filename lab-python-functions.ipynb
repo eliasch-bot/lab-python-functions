{
 "cells": [
  {
   "cell_type": "markdown",
   "id": "25d7736c-ba17-4aff-b6bb-66eba20fbf4e",
   "metadata": {},
   "source": [
    "# Lab | Functions"
   ]
  },
  {
   "cell_type": "markdown",
   "id": "0c581062-8967-4d93-b06e-62833222f930",
   "metadata": {
    "tags": []
   },
   "source": [
    "## Exercise: Managing Customer Orders with Functions\n",
    "\n",
    "In the previous exercise, you improved the code for managing customer orders by using loops and flow control. Now, let's take it a step further and refactor the code by introducing functions.\n",
    "\n",
    "Follow the steps below to complete the exercise:\n",
    "\n",
    "1. Define a function named `initialize_inventory` that takes `products` as a parameter. Inside the function, implement the code for initializing the inventory dictionary using a loop and user input.\n",
    "\n",
    "2. Define a function named `get_customer_orders` that takes no parameters. Inside the function, implement the code for prompting the user to enter the product names using a loop. The function should return the `customer_orders` set.\n",
    "\n",
    "3. Define a function named `update_inventory` that takes `customer_orders` and `inventory` as parameters. Inside the function, implement the code for updating the inventory dictionary based on the customer orders.\n",
    "\n",
    "4. Define a function named `calculate_order_statistics` that takes `customer_orders` and `products` as parameters. Inside the function, implement the code for calculating the order statistics (total products ordered, and percentage of unique products ordered). The function should return these values.\n",
    "\n",
    "5. Define a function named `print_order_statistics` that takes `order_statistics` as a parameter. Inside the function, implement the code for printing the order statistics.\n",
    "\n",
    "6. Define a function named `print_updated_inventory` that takes `inventory` as a parameter. Inside the function, implement the code for printing the updated inventory.\n",
    "\n",
    "7. Call the functions in the appropriate sequence to execute the program and manage customer orders.\n",
    "\n",
    "Hints for functions:\n",
    "\n",
    "- Consider the input parameters required for each function and their return values.\n",
    "- Utilize function parameters and return values to transfer data between functions.\n",
    "- Test your functions individually to ensure they work correctly.\n",
    "\n",
    "\n",
    "## Ejercicio: Gestión de pedidos de clientes con funciones\n",
    "\n",
    "En el ejercicio anterior, mejoraste el código para gestionar los pedidos de los clientes utilizando bucles y control de flujo. Ahora, vamos a dar un paso más y refactorizar el código introduciendo funciones.\n",
    "\n",
    "Sigue los pasos que se indican a continuación para completar el ejercicio:\n",
    "\n",
    "1. Define una función llamada `initialize_inventory` que tome `products` como parámetro. Dentro de la función, implementa el código para inicializar el diccionario de inventario utilizando un bucle y la entrada del usuario.\n",
    "\n",
    "2. Define una función llamada «get_customer_orders» que no tome ningún parámetro. Dentro de la función, implementa el código para solicitar al usuario que introduzca los nombres de los productos utilizando un bucle. La función debe devolver el conjunto «customer_orders».\n",
    "\n",
    "3. Define una función llamada «update_inventory» que tome «customer_orders» e «inventory» como parámetros. Dentro de la función, implemente el código para actualizar el diccionario de inventario en función de los pedidos de los clientes.\n",
    "\n",
    "4. Defina una función llamada «calculate_order_statistics» que tome «customer_orders» y «products» como parámetros. Dentro de la función, implemente el código para calcular las estadísticas de los pedidos (total de productos pedidos y porcentaje de productos únicos pedidos). La función debe devolver estos valores.\n",
    "\n",
    "5. Define una función llamada `print_order_statistics` que tome `order_statistics` como parámetro. Dentro de la función, implementa el código para imprimir las estadísticas de los pedidos.\n",
    "\n",
    "6. Define una función llamada `print_updated_inventory` que tome `inventory` como parámetro. Dentro de la función, implementa el código para imprimir el inventario actualizado.\n",
    "\n",
    "7. Llame a las funciones en la secuencia adecuada para ejecutar el programa y gestionar los pedidos de los clientes.\n",
    "\n",
    "Pistas para las funciones:\n",
    "\n",
    "- Tenga en cuenta los parámetros de entrada necesarios para cada función y sus valores de retorno.\n",
    "- Utilice los parámetros de función y los valores de retorno para transferir datos entre funciones.\n",
    "- Pruebe sus funciones individualmente para asegurarse de que funcionan correctamente.\n",
    "\n",
    "\n",
    "\n"
   ]
  },
  {
   "cell_type": "code",
   "execution_count": null,
   "id": "c70c487c",
   "metadata": {},
   "outputs": [],
   "source": [
    "def initialize_inventory(products)\n",
    "    \n",
    "    "
   ]
  }
 ],
 "metadata": {
  "kernelspec": {
   "display_name": "Python 3 (ipykernel)",
   "language": "python",
   "name": "python3"
  },
  "language_info": {
   "codemirror_mode": {
    "name": "ipython",
    "version": 3
   },
   "file_extension": ".py",
   "mimetype": "text/x-python",
   "name": "python",
   "nbconvert_exporter": "python",
   "pygments_lexer": "ipython3",
   "version": "3.9.13"
  }
 },
 "nbformat": 4,
 "nbformat_minor": 5
}
